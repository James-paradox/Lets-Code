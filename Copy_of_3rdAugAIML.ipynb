{
  "nbformat": 4,
  "nbformat_minor": 0,
  "metadata": {
    "colab": {
      "name": "Copy of 3rdAugAIML.ipynb",
      "provenance": [],
      "collapsed_sections": [],
      "authorship_tag": "ABX9TyOrtl+MXYPpQqBd/RaigAgB",
      "include_colab_link": true
    },
    "kernelspec": {
      "name": "python3",
      "display_name": "Python 3"
    }
  },
  "cells": [
    {
      "cell_type": "markdown",
      "metadata": {
        "id": "view-in-github",
        "colab_type": "text"
      },
      "source": [
        "<a href=\"https://colab.research.google.com/github/James-paradox/Lets-Code/blob/master/Copy_of_3rdAugAIML.ipynb\" target=\"_parent\"><img src=\"https://colab.research.google.com/assets/colab-badge.svg\" alt=\"Open In Colab\"/></a>"
      ]
    },
    {
      "cell_type": "code",
      "metadata": {
        "id": "9gqb9hruW1M7",
        "colab_type": "code",
        "colab": {
          "base_uri": "https://localhost:8080/",
          "height": 50
        },
        "outputId": "b52d4f1f-9ec2-46b0-fd2f-e5b949ef52df"
      },
      "source": [
        "!python3 --version\n",
        "2**3\n",
        "a=7.1 + 4.3j\n",
        "print(a)\n",
        "\n",
        "Building Blocks:\n",
        "Variables\n",
        "Functions\n",
        "Expressions\n",
        "Statements\n",
        "Block\n",
        "Comments"
      ],
      "execution_count": null,
      "outputs": [
        {
          "output_type": "stream",
          "text": [
            "Python 3.6.9\n",
            "(7.1+4.3j)\n"
          ],
          "name": "stdout"
        }
      ]
    },
    {
      "cell_type": "markdown",
      "metadata": {
        "id": "ZaTY5wjNdF_w",
        "colab_type": "text"
      },
      "source": [
        "!python3 --version\n",
        "2**3\n",
        "a=7.1 + 4.3j\n",
        "print(a)\n",
        "\n",
        "Building Blocks:\n",
        "Variables\n",
        "Functions\n",
        "Expressions\n",
        "Statements\n",
        "Block\n",
        "Comments"
      ]
    },
    {
      "cell_type": "code",
      "metadata": {
        "id": "Tkd42489ozxB",
        "colab_type": "code",
        "colab": {}
      },
      "source": [
        ""
      ],
      "execution_count": null,
      "outputs": []
    },
    {
      "cell_type": "code",
      "metadata": {
        "id": "P_D66L1mdCsv",
        "colab_type": "code",
        "colab": {}
      },
      "source": [
        ""
      ],
      "execution_count": null,
      "outputs": []
    },
    {
      "cell_type": "markdown",
      "metadata": {
        "id": "zD5esR1AdDNn",
        "colab_type": "text"
      },
      "source": [
        ""
      ]
    },
    {
      "cell_type": "code",
      "metadata": {
        "id": "2CtRCMgUdDqX",
        "colab_type": "code",
        "colab": {
          "base_uri": "https://localhost:8080/",
          "height": 34
        },
        "outputId": "7e02f84e-23a4-49a4-8b41-1c7775e1c0da"
      },
      "source": [
        "num=10\n",
        "\n",
        "\n",
        "NUM=num\n",
        "print(NUM)"
      ],
      "execution_count": null,
      "outputs": [
        {
          "output_type": "stream",
          "text": [
            "10\n"
          ],
          "name": "stdout"
        }
      ]
    },
    {
      "cell_type": "markdown",
      "metadata": {
        "id": "NhW_92XBdEIn",
        "colab_type": "text"
      },
      "source": [
        ""
      ]
    },
    {
      "cell_type": "code",
      "metadata": {
        "id": "_J4twzh1fhyu",
        "colab_type": "code",
        "colab": {
          "base_uri": "https://localhost:8080/",
          "height": 50
        },
        "outputId": "76b05ffe-c540-4f6a-e73d-f2d18df10295"
      },
      "source": [
        "myAge=20\n",
        "if (myAge>=18) :\n",
        "  print(\"eligible to vote\")\n",
        "  print(\"show your voter card\")\n",
        "else:\n",
        "  print(\"you to wait till you are 18 :) \")  "
      ],
      "execution_count": null,
      "outputs": [
        {
          "output_type": "stream",
          "text": [
            "eligible to vote\n",
            "show your voter card\n"
          ],
          "name": "stdout"
        }
      ]
    },
    {
      "cell_type": "markdown",
      "metadata": {
        "id": "SKr-BxewhATi",
        "colab_type": "text"
      },
      "source": [
        ""
      ]
    },
    {
      "cell_type": "code",
      "metadata": {
        "id": "f9NRZZ-2hArl",
        "colab_type": "code",
        "colab": {
          "base_uri": "https://localhost:8080/",
          "height": 34
        },
        "outputId": "9862aced-b962-4fe2-8c5d-eac4bca19cf5"
      },
      "source": [
        "myNum = 0\n",
        "if (myNum>0):\n",
        "  print(\"Positive\")\n",
        "elif (myNum ==0):\n",
        "  print(\"The number is Zero\")\n",
        "else:\n",
        "  print(\"Negative\")"
      ],
      "execution_count": null,
      "outputs": [
        {
          "output_type": "stream",
          "text": [
            "The number is Zero\n"
          ],
          "name": "stdout"
        }
      ]
    },
    {
      "cell_type": "code",
      "metadata": {
        "id": "M_Jeof5hiWaU",
        "colab_type": "code",
        "colab": {
          "base_uri": "https://localhost:8080/",
          "height": 34
        },
        "outputId": "82b2cfcb-b646-461d-f03a-9a307b7bfbac"
      },
      "source": [
        "num = 1\n",
        "while (num<10):\n",
        "  print(num, end = \" \")\n",
        "  num = num+1"
      ],
      "execution_count": null,
      "outputs": [
        {
          "output_type": "stream",
          "text": [
            "1 2 3 4 5 6 7 8 9 "
          ],
          "name": "stdout"
        }
      ]
    },
    {
      "cell_type": "code",
      "metadata": {
        "id": "hnbJ1r2VlYsr",
        "colab_type": "code",
        "colab": {
          "base_uri": "https://localhost:8080/",
          "height": 372
        },
        "outputId": "31073972-e84d-4749-ac0a-631d8fe7caf0"
      },
      "source": [
        "\n",
        "help()"
      ],
      "execution_count": null,
      "outputs": [
        {
          "output_type": "stream",
          "text": [
            "\n",
            "Welcome to Python 3.6's help utility!\n",
            "\n",
            "If this is your first time using Python, you should definitely check out\n",
            "the tutorial on the Internet at https://docs.python.org/3.6/tutorial/.\n",
            "\n",
            "Enter the name of any module, keyword, or topic to get help on writing\n",
            "Python programs and using Python modules.  To quit this help utility and\n",
            "return to the interpreter, just type \"quit\".\n",
            "\n",
            "To get a list of available modules, keywords, symbols, or topics, type\n",
            "\"modules\", \"keywords\", \"symbols\", or \"topics\".  Each module also comes\n",
            "with a one-line summary of what it does; to list the modules whose name\n",
            "or summary contain a given string such as \"spam\", type \"modules spam\".\n",
            "\n",
            "\n",
            "You are now leaving help and returning to the Python interpreter.\n",
            "If you want to ask for help on a particular object directly from the\n",
            "interpreter, you can type \"help(object)\".  Executing \"help('string')\"\n",
            "has the same effect as typing a particular string at the help> prompt.\n"
          ],
          "name": "stdout"
        }
      ]
    },
    {
      "cell_type": "code",
      "metadata": {
        "id": "Lnu6I0ZWl8d6",
        "colab_type": "code",
        "colab": {
          "base_uri": "https://localhost:8080/",
          "height": 34
        },
        "outputId": "33690d94-c7a1-489f-a19e-d985c32ae4a3"
      },
      "source": [
        "def Cube(num):\n",
        "  return num**3\n",
        "num =3\n",
        "print(Cube(num)) "
      ],
      "execution_count": null,
      "outputs": [
        {
          "output_type": "stream",
          "text": [
            "27\n"
          ],
          "name": "stdout"
        }
      ]
    },
    {
      "cell_type": "code",
      "metadata": {
        "id": "WWgM6fdCmxC0",
        "colab_type": "code",
        "colab": {
          "base_uri": "https://localhost:8080/",
          "height": 50
        },
        "outputId": "e0ef8e83-05f1-4ccb-a46b-4ff09c655dbf"
      },
      "source": [
        "def isEven(num):\n",
        "  return (num % 2 == 0)\n",
        "num=0\n",
        "print(isEven(num))  \n",
        "\n",
        "while (num<11):\n",
        "  if isEven(num):\n",
        "    print(num, end=\" \")\n",
        "  num=num+1  "
      ],
      "execution_count": null,
      "outputs": [
        {
          "output_type": "stream",
          "text": [
            "True\n",
            "0 2 4 6 8 10 "
          ],
          "name": "stdout"
        }
      ]
    }
  ]
}